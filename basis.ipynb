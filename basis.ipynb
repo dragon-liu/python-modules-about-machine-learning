{
 "cells": [
  {
   "cell_type": "code",
   "execution_count": null,
   "metadata": {},
   "outputs": [],
   "source": [
    "//Compute the decimals of Pi using the Wallis formula\n",
    "sum = 0\n",
    "a = [4*(i**2)/(4*(i**2)-1) for i]"
   ]
  },
  {
   "cell_type": "code",
   "execution_count": null,
   "metadata": {},
   "outputs": [],
   "source": [
    "//Implement the quicksort algorithm, as defined by wikipedia\n",
    "function quicksort(array)\n",
    "    var list less, greater\n",
    "    if length(array) < 2\n",
    "        return array\n",
    "    select and remove a pivot value pivot from array\n",
    "    for each x in array\n",
    "        if x < pivot + 1 then append x to less\n",
    "        else append x to greater\n",
    "    return concatenate(quicksort(less), pivot, quicksort(greater))"
   ]
  },
  {
   "cell_type": "code",
   "execution_count": null,
   "metadata": {},
   "outputs": [],
   "source": []
  }
 ],
 "metadata": {
  "kernelspec": {
   "display_name": "Python 3",
   "language": "python",
   "name": "python3"
  },
  "language_info": {
   "codemirror_mode": {
    "name": "ipython",
    "version": 3
   },
   "file_extension": ".py",
   "mimetype": "text/x-python",
   "name": "python",
   "nbconvert_exporter": "python",
   "pygments_lexer": "ipython3",
   "version": "3.7.3"
  },
  "toc": {
   "base_numbering": 1,
   "nav_menu": {},
   "number_sections": true,
   "sideBar": true,
   "skip_h1_title": false,
   "title_cell": "Table of Contents",
   "title_sidebar": "Contents",
   "toc_cell": false,
   "toc_position": {},
   "toc_section_display": true,
   "toc_window_display": false
  }
 },
 "nbformat": 4,
 "nbformat_minor": 2
}
